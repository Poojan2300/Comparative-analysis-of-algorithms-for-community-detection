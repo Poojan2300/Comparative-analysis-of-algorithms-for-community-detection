{
 "cells": [
  {
   "cell_type": "code",
   "execution_count": 1,
   "id": "9e5d7fe3-e8ca-4ada-bd28-df564396851f",
   "metadata": {},
   "outputs": [],
   "source": [
    "import networkx as nx\n",
    "import pandas as pd\n",
    "from networkx.algorithms.community import girvan_newman\n",
    "from itertools import islice"
   ]
  },
  {
   "cell_type": "code",
   "execution_count": null,
   "id": "5a99fd80-9b1b-4aea-81b8-508c24c042e7",
   "metadata": {},
   "outputs": [],
   "source": [
    "def read_graph_from_file(file_path):\n",
    "    df = pd.read_csv(file_path, sep=r'\\s+', header=None, names=['fromNode', 'toNode'])\n",
    "    G = nx.from_pandas_edgelist(df, 'fromNode', 'toNode')\n",
    "    return G"
   ]
  },
  {
   "cell_type": "code",
   "execution_count": 15,
   "id": "e0aa9f58-ad6e-460c-a1f8-62ae59bcff33",
   "metadata": {},
   "outputs": [],
   "source": [
    "def run_label_propagation(G):\n",
    "    communities = nx.algorithms.community.label_propagation_communities(G)\n",
    "    communities = [list(community) for community in communities]\n",
    "    return communities"
   ]
  },
  {
   "cell_type": "code",
   "execution_count": null,
   "id": "f63aa836-aa45-4421-8466-eaa42ee5b22c",
   "metadata": {},
   "outputs": [],
   "source": [
    "def calculate_metrics(G, communities):\n",
    "\n",
    "    modularity = nx.algorithms.community.modularity(G, communities)\n",
    "    \n",
    "    avg_clustering_coeff = nx.average_clustering(G)\n",
    "    \n",
    "    num_communities = len(communities)\n",
    "    \n",
    "    # Calculating the diameter of the largest connected component\n",
    "    largest_cc = max(nx.connected_components(G), key=len)\n",
    "    subgraph = G.subgraph(largest_cc)\n",
    "    if nx.is_connected(subgraph):\n",
    "        diameter = nx.diameter(subgraph)\n",
    "    else:\n",
    "        diameter = None\n",
    "\n",
    "    return modularity, avg_clustering_coeff, num_communities, diameter"
   ]
  },
  {
   "cell_type": "code",
   "execution_count": null,
   "id": "eab9c458-d434-45e9-b139-333bfe5210d7",
   "metadata": {},
   "outputs": [],
   "source": [
    "def process_file_with_label_propagation(file_path):\n",
    "    G = read_graph_from_file(file_path)\n",
    "    communities = run_label_propagation(G)\n",
    "    modularity, avg_clustering_coeff, num_communities, diameter = calculate_metrics(G, communities)\n",
    "    \n",
    "    print(f\"Modularity: {modularity}\")\n",
    "    print(f\"Average Clustering Coefficient: {avg_clustering_coeff}\")\n",
    "    print(f\"Number of Communities: {num_communities}\")\n",
    "    print(f\"Diameter of Largest Connected Component: {diameter}\")"
   ]
  },
  {
   "cell_type": "code",
   "execution_count": null,
   "id": "77d4355b",
   "metadata": {},
   "outputs": [],
   "source": [
    "file_path = r\"\"  # Replace with your actual file path\n",
    "process_file_with_label_propagation(file_path)"
   ]
  }
 ],
 "metadata": {
  "kernelspec": {
   "display_name": "Python 3 (ipykernel)",
   "language": "python",
   "name": "python3"
  },
  "language_info": {
   "codemirror_mode": {
    "name": "ipython",
    "version": 3
   },
   "file_extension": ".py",
   "mimetype": "text/x-python",
   "name": "python",
   "nbconvert_exporter": "python",
   "pygments_lexer": "ipython3",
   "version": "3.12.5"
  }
 },
 "nbformat": 4,
 "nbformat_minor": 5
}
