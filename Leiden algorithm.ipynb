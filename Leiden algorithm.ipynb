{
 "cells": [
  {
   "cell_type": "code",
   "execution_count": 19,
   "id": "b3333470-92bc-47c5-9cde-ac9044235d52",
   "metadata": {},
   "outputs": [],
   "source": [
    "import pandas as pd\n",
    "import networkx as nx\n",
    "import igraph as ig\n",
    "import leidenalg as la"
   ]
  },
  {
   "cell_type": "code",
   "execution_count": null,
   "id": "3f842eb1-6d48-4b8b-aa95-bf4320f47b5e",
   "metadata": {},
   "outputs": [],
   "source": [
    "def read_graph_from_file(file_path):\n",
    "    df = pd.read_csv(file_path, sep=r'\\s+', header=None, names=['FromNode', 'ToNode'])\n",
    "    \n",
    "    G = nx.from_pandas_edgelist(df, 'FromNode', 'ToNode')\n",
    "    return G"
   ]
  },
  {
   "cell_type": "code",
   "execution_count": null,
   "id": "92db3076-042c-4145-be38-f496429079c3",
   "metadata": {},
   "outputs": [],
   "source": [
    "def convert_nx_to_igraph(G):\n",
    "    mapping = {node: i for i, node in enumerate(G.nodes())}\n",
    "    G = nx.relabel_nodes(G, mapping) \n",
    "    edges = list(G.edges())\n",
    "    g_igraph = ig.Graph(edges=edges)\n",
    "    return g_igraph, mapping"
   ]
  },
  {
   "cell_type": "code",
   "execution_count": 22,
   "id": "23178ae1-b5ca-414d-b6d5-3186fa70c41c",
   "metadata": {},
   "outputs": [],
   "source": [
    "def run_leiden_algorithm(g_igraph):\n",
    "    partition = la.find_partition(g_igraph, la.ModularityVertexPartition)\n",
    "    communities = [list(community) for community in partition]\n",
    "    return communities"
   ]
  },
  {
   "cell_type": "code",
   "execution_count": null,
   "id": "1ba21010-a501-4cec-837a-3203fc87d126",
   "metadata": {},
   "outputs": [],
   "source": [
    "def calculate_metrics(G, communities):\n",
    "\n",
    "    modularity = nx.algorithms.community.modularity(G, communities)\n",
    "    \n",
    "    avg_clustering_coeff = nx.average_clustering(G)\n",
    "    \n",
    "    num_communities = len(communities)\n",
    "    \n",
    "    largest_cc = max(nx.connected_components(G), key=len)\n",
    "    subgraph = G.subgraph(largest_cc)\n",
    "    if nx.is_connected(subgraph):\n",
    "        diameter = nx.diameter(subgraph)\n",
    "    else:\n",
    "        diameter = None\n",
    "\n",
    "    return modularity, avg_clustering_coeff, num_communities, diameter"
   ]
  },
  {
   "cell_type": "code",
   "execution_count": null,
   "id": "a73057f3-9178-458e-b66c-8e829d3d0804",
   "metadata": {},
   "outputs": [],
   "source": [
    "def process_file_with_leiden(file_path):\n",
    "    \n",
    "    G = read_graph_from_file(file_path)\n",
    "    g_igraph, mapping = convert_nx_to_igraph(G)\n",
    "    \n",
    "    communities = run_leiden_algorithm(g_igraph)\n",
    "    \n",
    "    # Mapping the communities back to original node labels\n",
    "    original_communities = [[list(mapping.keys())[list(mapping.values()).index(node)] for node in community] for community in communities]\n",
    "    \n",
    "    modularity, avg_clustering_coeff, num_communities, diameter = calculate_metrics(G, original_communities)\n",
    "    \n",
    "    print(f\"Modularity: {modularity}\")\n",
    "    print(f\"Average Clustering Coefficient: {avg_clustering_coeff}\")\n",
    "    print(f\"Number of Communities: {num_communities}\")\n",
    "    if diameter is not None:\n",
    "        print(f\"Diameter of Largest Connected Component: {diameter}\")\n",
    "    else:\n",
    "        print(\"Graph is disconnected; diameter is undefined.\")"
   ]
  },
  {
   "cell_type": "code",
   "execution_count": null,
   "id": "0b54ebaf",
   "metadata": {},
   "outputs": [],
   "source": [
    "file_path = r\"\"  # Replace with your actual file path\n",
    "process_file_with_leiden(file_path)"
   ]
  }
 ],
 "metadata": {
  "kernelspec": {
   "display_name": "Python 3 (ipykernel)",
   "language": "python",
   "name": "python3"
  },
  "language_info": {
   "codemirror_mode": {
    "name": "ipython",
    "version": 3
   },
   "file_extension": ".py",
   "mimetype": "text/x-python",
   "name": "python",
   "nbconvert_exporter": "python",
   "pygments_lexer": "ipython3",
   "version": "3.12.5"
  }
 },
 "nbformat": 4,
 "nbformat_minor": 5
}
