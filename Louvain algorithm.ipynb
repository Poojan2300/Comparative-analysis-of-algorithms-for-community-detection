{
 "cells": [
  {
   "cell_type": "code",
   "execution_count": 1,
   "id": "2338e700-ff39-43d0-b599-a8dc1d1dd96c",
   "metadata": {},
   "outputs": [],
   "source": [
    "import networkx as nx\n",
    "import community as community_louvain\n",
    "import pandas as pd"
   ]
  },
  {
   "cell_type": "code",
   "execution_count": 17,
   "id": "51141485-f3ea-4756-9355-7da9d7a052cd",
   "metadata": {},
   "outputs": [],
   "source": [
    "def read_graph_from_file(file_path):\n",
    "    df = pd.read_csv(file_path, sep=r'\\s+', header=None, names=['fromNode', 'toNode'])\n",
    "    G = nx.from_pandas_edgelist(df, 'fromNode', 'toNode')\n",
    "    return G"
   ]
  },
  {
   "cell_type": "code",
   "execution_count": 15,
   "id": "c121cc80-53d7-40aa-8f74-e1b572bf5c3c",
   "metadata": {},
   "outputs": [],
   "source": [
    "def run_louvain_and_metrics(G):\n",
    "    partition = community_louvain.best_partition(G)\n",
    "    modularity = community_louvain.modularity(partition, G)\n",
    "    \n",
    "    avg_clustering_coeff = nx.average_clustering(G)\n",
    "    \n",
    "    # Calculating the number of communities\n",
    "    num_communities = len(set(partition.values()))\n",
    "    largest_cc = max(nx.connected_components(G), key=len)\n",
    "    subgraph = G.subgraph(largest_cc)\n",
    "    diameter = nx.diameter(subgraph) if nx.is_connected(G) else None\n",
    "    \n",
    "    return modularity, avg_clustering_coeff, num_communities, diameter"
   ]
  },
  {
   "cell_type": "code",
   "execution_count": 19,
   "id": "5ad4f277-f7a0-44de-9e5c-3ba8a7140777",
   "metadata": {},
   "outputs": [],
   "source": [
    "def process_file(file_path):\n",
    "    G = read_graph_from_file(file_path)\n",
    "    modularity, avg_clustering_coeff, num_communities, diameter = run_louvain_and_metrics(G)\n",
    "    \n",
    "    # Print the results\n",
    "    print(f\"Modularity: {modularity}\")\n",
    "    print(f\"Average Clustering Coefficient: {avg_clustering_coeff}\")\n",
    "    print(f\"Number of Communities: {num_communities}\")\n",
    "    print(f\"Diameter of Largest Connected Component: {diameter}\")"
   ]
  },
  {
   "cell_type": "code",
   "execution_count": null,
   "id": "5d767a78",
   "metadata": {},
   "outputs": [],
   "source": [
    "file_path = r\"\"  # Replace with your actual file path\n",
    "process_file(file_path)"
   ]
  }
 ],
 "metadata": {
  "kernelspec": {
   "display_name": "Python 3 (ipykernel)",
   "language": "python",
   "name": "python3"
  },
  "language_info": {
   "codemirror_mode": {
    "name": "ipython",
    "version": 3
   },
   "file_extension": ".py",
   "mimetype": "text/x-python",
   "name": "python",
   "nbconvert_exporter": "python",
   "pygments_lexer": "ipython3",
   "version": "3.12.5"
  }
 },
 "nbformat": 4,
 "nbformat_minor": 5
}
