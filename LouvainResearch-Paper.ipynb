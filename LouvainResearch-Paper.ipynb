{
 "cells": [
  {
   "cell_type": "code",
   "execution_count": 1,
   "id": "2338e700-ff39-43d0-b599-a8dc1d1dd96c",
   "metadata": {},
   "outputs": [],
   "source": [
    "import networkx as nx\n",
    "import community as community_louvain\n",
    "import pandas as pd"
   ]
  },
  {
   "cell_type": "code",
   "execution_count": 17,
   "id": "51141485-f3ea-4756-9355-7da9d7a052cd",
   "metadata": {},
   "outputs": [],
   "source": [
    "def read_graph_from_file(file_path):\n",
    "    df = pd.read_csv(file_path, sep=r'\\s+', header=None, names=['fromNode', 'toNode'])\n",
    "    G = nx.from_pandas_edgelist(df, 'fromNode', 'toNode')\n",
    "    return G"
   ]
  },
  {
   "cell_type": "code",
   "execution_count": 15,
   "id": "c121cc80-53d7-40aa-8f74-e1b572bf5c3c",
   "metadata": {},
   "outputs": [],
   "source": [
    "def run_louvain_and_metrics(G):\n",
    "    partition = community_louvain.best_partition(G)\n",
    "    modularity = community_louvain.modularity(partition, G)\n",
    "    \n",
    "    avg_clustering_coeff = nx.average_clustering(G)\n",
    "    \n",
    "    # Calculating the number of communities\n",
    "    num_communities = len(set(partition.values()))\n",
    "    largest_cc = max(nx.connected_components(G), key=len)\n",
    "    subgraph = G.subgraph(largest_cc)\n",
    "    diameter = nx.diameter(subgraph) if nx.is_connected(G) else None\n",
    "    \n",
    "    return modularity, avg_clustering_coeff, num_communities, diameter"
   ]
  },
  {
   "cell_type": "code",
   "execution_count": 19,
   "id": "5ad4f277-f7a0-44de-9e5c-3ba8a7140777",
   "metadata": {},
   "outputs": [],
   "source": [
    "def process_file(file_path):\n",
    "    G = read_graph_from_file(file_path)\n",
    "    modularity, avg_clustering_coeff, num_communities, diameter = run_louvain_and_metrics(G)\n",
    "    \n",
    "    # Print the results\n",
    "    print(f\"Modularity: {modularity}\")\n",
    "    print(f\"Average Clustering Coefficient: {avg_clustering_coeff}\")\n",
    "    print(f\"Number of Communities: {num_communities}\")\n",
    "    print(f\"Diameter of Largest Connected Component: {diameter}\")"
   ]
  },
  {
   "cell_type": "code",
   "execution_count": 20,
   "id": "72d61f9a-2830-4367-8342-75fc88d167d1",
   "metadata": {},
   "outputs": [
    {
     "name": "stdout",
     "output_type": "stream",
     "text": [
      "Modularity: 0.4163604583898012\n",
      "Average Clustering Coefficient: 0.14085825116331546\n",
      "Number of Communities: 32\n",
      "Diameter of Largest Connected Component: None\n"
     ]
    }
   ],
   "source": [
    "file_path = r\"C:/Users/pooja/Downloads/Wiki-Vote.txt\"  # Replace with your actual file path\n",
    "process_file(file_path)"
   ]
  },
  {
   "cell_type": "code",
   "execution_count": 21,
   "id": "b8b20fe4-10ab-4ab3-bd16-550aa52be084",
   "metadata": {},
   "outputs": [
    {
     "name": "stdout",
     "output_type": "stream",
     "text": [
      "Modularity: 0.46188792983005733\n",
      "Average Clustering Coefficient: 0.17653569929944193\n",
      "Number of Communities: 29\n",
      "Diameter of Largest Connected Component: None\n"
     ]
    }
   ],
   "source": [
    "file_path = r\"C:/Users/pooja/Downloads/bitcoin_alpha.txt\"  # Replace with your actual file path\n",
    "process_file(file_path)"
   ]
  },
  {
   "cell_type": "code",
   "execution_count": 22,
   "id": "9b24c46f-52a1-4cc9-9b6c-2f8583ae9ac8",
   "metadata": {},
   "outputs": [
    {
     "name": "stdout",
     "output_type": "stream",
     "text": [
      "Modularity: 0.47375303071573166\n",
      "Average Clustering Coefficient: 0.17744414916285484\n",
      "Number of Communities: 22\n",
      "Diameter of Largest Connected Component: None\n"
     ]
    }
   ],
   "source": [
    "file_path = r\"C:/Users/pooja/Downloads/bitcoin_otc.txt\"  # Replace with your actual file path\n",
    "process_file(file_path)"
   ]
  },
  {
   "cell_type": "code",
   "execution_count": 23,
   "id": "9f75c753-f673-4085-a564-d5007512bc9d",
   "metadata": {},
   "outputs": [
    {
     "name": "stdout",
     "output_type": "stream",
     "text": [
      "Modularity: 0.8349624848037223\n",
      "Average Clustering Coefficient: 0.6055467186200862\n",
      "Number of Communities: 16\n",
      "Diameter of Largest Connected Component: 8\n"
     ]
    }
   ],
   "source": [
    "file_path = r\"C:/Users/pooja/Downloads/facebook_combined.txt\"  # Replace with your actual file path\n",
    "process_file(file_path)"
   ]
  }
 ],
 "metadata": {
  "kernelspec": {
   "display_name": "Python 3 (ipykernel)",
   "language": "python",
   "name": "python3"
  },
  "language_info": {
   "codemirror_mode": {
    "name": "ipython",
    "version": 3
   },
   "file_extension": ".py",
   "mimetype": "text/x-python",
   "name": "python",
   "nbconvert_exporter": "python",
   "pygments_lexer": "ipython3",
   "version": "3.12.5"
  }
 },
 "nbformat": 4,
 "nbformat_minor": 5
}
